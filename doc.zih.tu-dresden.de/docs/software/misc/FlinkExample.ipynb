{
 "cells": [
  {
   "cell_type": "code",
   "execution_count": null,
   "metadata": {},
   "outputs": [],
   "source": [
    "import sys\n",
    "!{sys.executable} -m pip install apache-flink --user"
   ]
  },
  {
   "cell_type": "code",
   "execution_count": null,
   "metadata": {},
   "outputs": [],
   "source": [
    "%%bash\n",
    "echo $FLINK_ROOT_DIR\n",
    "echo $JAVA_HOME\n",
    "hostname\n",
    "if [ ! -d $HOME/jupyter-flink-conf ]\n",
    "then\n",
    "cp -r $FLINK_ROOT_DIR/conf $HOME/jupyter-flink-conf\n",
    "chmod -R u+w $HOME/jupyter-flink-conf\n",
    "fi"
   ]
  },
  {
   "cell_type": "code",
   "execution_count": null,
   "metadata": {},
   "outputs": [],
   "source": [
    "import sys\n",
    "import os\n",
    "os.environ['FLINK_CONF_DIR'] = os.environ['HOME'] + '/cluster-conf-' + os.environ['SLURM_JOBID'] + '/flink'\n",
    "os.environ['PYTHONPATH'] = os.environ['PYTHONPATH'] + ':' + os.environ['HOME'] + '/.local/lib/python3.6/site-packages'"
   ]
  },
  {
   "cell_type": "code",
   "execution_count": null,
   "metadata": {},
   "outputs": [],
   "source": [
    "!SHELL=/bin/bash bash framework-configure.sh flink $HOME/jupyter-flink-conf"
   ]
  },
  {
   "cell_type": "code",
   "execution_count": null,
   "metadata": {},
   "outputs": [],
   "source": [
    "exitcode = os.system('start-cluster.sh')\n",
    "if not exitcode:\n",
    "    print(\"started Flink cluster successful\")"
   ]
  },
  {
   "cell_type": "code",
   "execution_count": null,
   "metadata": {},
   "outputs": [],
   "source": [
    "%%bash\n",
    "echo \"This is a short story for you. In this story nothing is happening. Have a nice day!\" > myFlinkTestFile"
   ]
  },
  {
   "cell_type": "code",
   "execution_count": null,
   "metadata": {},
   "outputs": [],
   "source": [
    "from pyflink.datastream import StreamExecutionEnvironment\n",
    "from pyflink.datastream.connectors import FileSource\n",
    "from pyflink.datastream.connectors import StreamFormat\n",
    "from pyflink.common.watermark_strategy import WatermarkStrategy\n",
    "from pyflink.common.typeinfo import Types\n",
    "\n",
    "env = StreamExecutionEnvironment.get_execution_environment()\n",
    "env.set_parallelism(2)\n",
    "#set the Python executable for the workers\n",
    "env.set_python_executable(sys.executable)\n",
    "# define the source\n",
    "ds = env.from_source(source=FileSource.for_record_stream_format(StreamFormat.text_line_format(),\n",
    "                                               \"myFlinkTestFile\").process_static_file_set().build(),\n",
    "                     watermark_strategy=WatermarkStrategy.for_monotonous_timestamps(),\n",
    "                     source_name=\"file_source\")\n",
    "\n",
    "def split(line):\n",
    "    yield from line.split()\n",
    "\n",
    "    \n",
    "# compute word count\n",
    "ds = ds.flat_map(split) \\\n",
    "    .map(lambda i: (i, 1), output_type=Types.TUPLE([Types.STRING(), Types.INT()])) \\\n",
    "    .key_by(lambda i: i[0]) \\\n",
    "    .reduce(lambda i, j: (i[0], i[1] + j[1])) \\\n",
    "    .map(lambda i: print(i))\n",
    "\n",
    "# submit for execution\n",
    "env.execute()"
   ]
  },
  {
   "cell_type": "code",
   "execution_count": null,
   "metadata": {},
   "outputs": [],
   "source": [
    "%%bash\n",
    "stop-cluster.sh"
   ]
  },
  {
   "cell_type": "code",
   "execution_count": null,
   "metadata": {},
   "outputs": [],
   "source": [
    "!ps -ef | grep -i java"
   ]
  },
  {
   "cell_type": "code",
   "execution_count": null,
   "metadata": {},
   "outputs": [],
   "source": [
    "!pkill -f \"java\""
   ]
  }
 ],
 "metadata": {
  "kernelspec": {
   "display_name": "Python 3",
   "language": "python",
   "name": "python3"
  },
  "language_info": {
   "codemirror_mode": {
    "name": "ipython",
    "version": 3
   },
   "file_extension": ".py",
   "mimetype": "text/x-python",
   "name": "python",
   "nbconvert_exporter": "python",
   "pygments_lexer": "ipython3",
   "version": "3.6.10"
  }
 },
 "nbformat": 4,
 "nbformat_minor": 4
}
